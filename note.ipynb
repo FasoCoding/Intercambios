{
 "cells": [
  {
   "cell_type": "code",
   "execution_count": 32,
   "metadata": {},
   "outputs": [],
   "source": [
    "import polars as pl\n",
    "import networkx as nx\n",
    "\n",
    "from pathlib import Path\n",
    "from intercambios.extract import DataExtractor\n",
    "\n",
    "TOPO_PATH = r\"topo.csv\"\n",
    "DATA_PATH = r\"data.csv\"\n",
    "PATH_ACCDB = r\"C:\\Users\\felipe.bastidas\\PyProyectos\\prg_20240128\\Datos\\Model PRGdia_Full_Definitivo Solution\\Model PRGdia_Full_Definitivo Solution.accdb\"\n",
    "TOPOLOGY_PATH = r\"C:\\Users\\felipe.bastidas\\PyProyectos\\prg_20240128\\Antecedentes\\topologia.xlsx\"\n",
    "\n",
    "data_extractor = DataExtractor(Path(PATH_ACCDB),Path(TOPOLOGY_PATH))\n",
    "data_extractor.extract_data()\n",
    "\n",
    "df_topo = pl.read_csv(TOPO_PATH)\n",
    "df_data = pl.read_csv(DATA_PATH, try_parse_dates=True)"
   ]
  },
  {
   "cell_type": "code",
   "execution_count": 166,
   "metadata": {},
   "outputs": [
    {
     "data": {
      "text/html": [
       "<div><style>\n",
       ".dataframe > thead > tr,\n",
       ".dataframe > tbody > tr {\n",
       "  text-align: right;\n",
       "  white-space: pre-wrap;\n",
       "}\n",
       "</style>\n",
       "<small>shape: (30_816, 4)</small><table border=\"1\" class=\"dataframe\"><thead><tr><th>node</th><th>datetime</th><th>cmg</th><th>curt</th></tr><tr><td>str</td><td>datetime[μs]</td><td>f64</td><td>f64</td></tr></thead><tbody><tr><td>&quot;LVegas110&quot;</td><td>2024-02-01 17:00:00</td><td>53.834143</td><td>0.0</td></tr><tr><td>&quot;Oeste220&quot;</td><td>2024-01-29 04:00:00</td><td>87.706497</td><td>0.0</td></tr><tr><td>&quot;Tocopilla220_B…</td><td>2024-02-02 18:00:00</td><td>45.635315</td><td>0.0</td></tr><tr><td>&quot;Atacama220_BP1…</td><td>2024-01-29 05:00:00</td><td>84.886524</td><td>0.0</td></tr><tr><td>&quot;LoAguirre500&quot;</td><td>2024-01-29 03:00:00</td><td>0.0</td><td>0.0</td></tr><tr><td>&quot;Esmeralda110&quot;</td><td>2024-01-28 21:00:00</td><td>87.203505</td><td>0.0</td></tr><tr><td>&quot;Trupan220&quot;</td><td>2024-01-31 21:00:00</td><td>0.0</td><td>0.0</td></tr><tr><td>&quot;Miraje220&quot;</td><td>2024-02-01 05:00:00</td><td>80.182986</td><td>0.0</td></tr><tr><td>&quot;Degan110&quot;</td><td>2024-02-01 07:00:00</td><td>68.264248</td><td>0.0</td></tr><tr><td>&quot;LosChangos220&quot;</td><td>2024-02-01 10:00:00</td><td>-0.255763</td><td>0.0</td></tr><tr><td>&quot;Chonchi110&quot;</td><td>2024-01-30 04:00:00</td><td>75.451901</td><td>0.0</td></tr><tr><td>&quot;Tineo220&quot;</td><td>2024-02-02 20:00:00</td><td>73.282916</td><td>0.0</td></tr><tr><td>&hellip;</td><td>&hellip;</td><td>&hellip;</td><td>&hellip;</td></tr><tr><td>&quot;Ciruelos220&quot;</td><td>2024-02-02 19:00:00</td><td>72.333233</td><td>0.0</td></tr><tr><td>&quot;SJavier066&quot;</td><td>2024-01-28 22:00:00</td><td>78.170813</td><td>0.0</td></tr><tr><td>&quot;Lagunillas154&quot;</td><td>2024-02-02 02:00:00</td><td>0.0</td><td>0.0</td></tr><tr><td>&quot;CNavia110&quot;</td><td>2024-01-29 22:00:00</td><td>78.794715</td><td>0.0</td></tr><tr><td>&quot;Pid-Pid110&quot;</td><td>2024-02-01 02:00:00</td><td>72.922523</td><td>0.0</td></tr><tr><td>&quot;Barriles220&quot;</td><td>2024-02-02 17:00:00</td><td>45.923219</td><td>0.0</td></tr><tr><td>&quot;Pichirrahue220…</td><td>2024-01-31 00:00:00</td><td>69.329832</td><td>0.0</td></tr><tr><td>&quot;SFcoMost066&quot;</td><td>2024-01-29 09:00:00</td><td>-0.33432</td><td>0.0</td></tr><tr><td>&quot;Esmeralda220&quot;</td><td>2024-01-31 23:00:00</td><td>80.07752</td><td>0.0</td></tr><tr><td>&quot;Miraflores110&quot;</td><td>2024-01-28 21:00:00</td><td>75.28964</td><td>0.0</td></tr><tr><td>&quot;Mulchen220&quot;</td><td>2024-01-30 13:00:00</td><td>57.448744</td><td>0.0</td></tr><tr><td>&quot;Petroquim154&quot;</td><td>2024-01-30 22:00:00</td><td>68.318627</td><td>0.0</td></tr></tbody></table></div>"
      ],
      "text/plain": [
       "shape: (30_816, 4)\n",
       "┌──────────────────┬─────────────────────┬───────────┬──────┐\n",
       "│ node             ┆ datetime            ┆ cmg       ┆ curt │\n",
       "│ ---              ┆ ---                 ┆ ---       ┆ ---  │\n",
       "│ str              ┆ datetime[μs]        ┆ f64       ┆ f64  │\n",
       "╞══════════════════╪═════════════════════╪═══════════╪══════╡\n",
       "│ LVegas110        ┆ 2024-02-01 17:00:00 ┆ 53.834143 ┆ 0.0  │\n",
       "│ Oeste220         ┆ 2024-01-29 04:00:00 ┆ 87.706497 ┆ 0.0  │\n",
       "│ Tocopilla220_BP1 ┆ 2024-02-02 18:00:00 ┆ 45.635315 ┆ 0.0  │\n",
       "│ Atacama220_BP1   ┆ 2024-01-29 05:00:00 ┆ 84.886524 ┆ 0.0  │\n",
       "│ LoAguirre500     ┆ 2024-01-29 03:00:00 ┆ 0.0       ┆ 0.0  │\n",
       "│ …                ┆ …                   ┆ …         ┆ …    │\n",
       "│ SFcoMost066      ┆ 2024-01-29 09:00:00 ┆ -0.33432  ┆ 0.0  │\n",
       "│ Esmeralda220     ┆ 2024-01-31 23:00:00 ┆ 80.07752  ┆ 0.0  │\n",
       "│ Miraflores110    ┆ 2024-01-28 21:00:00 ┆ 75.28964  ┆ 0.0  │\n",
       "│ Mulchen220       ┆ 2024-01-30 13:00:00 ┆ 57.448744 ┆ 0.0  │\n",
       "│ Petroquim154     ┆ 2024-01-30 22:00:00 ┆ 68.318627 ┆ 0.0  │\n",
       "└──────────────────┴─────────────────────┴───────────┴──────┘"
      ]
     },
     "execution_count": 166,
     "metadata": {},
     "output_type": "execute_result"
    }
   ],
   "source": [
    "gen_pivot = (\n",
    "    data_extractor.gen\n",
    "    .pivot(\n",
    "        values=\"value\",\n",
    "        columns=\"property\",\n",
    "        index=[\"generator\", \"datetime\"]\n",
    "    )\n",
    "    .select([\"generator\",\"datetime\",\"Capacity Curtailed\"])\n",
    ")\n",
    "\n",
    "data_process = (\n",
    "        data_extractor.cmg\n",
    "        .join(\n",
    "            data_extractor.nodes,\n",
    "            on=\"node\",\n",
    "            how=\"left\")\n",
    "        .join(\n",
    "            gen_pivot,\n",
    "            on=[\"generator\", \"datetime\"],\n",
    "            how=\"left\"\n",
    "        )\n",
    "        .fill_null(0)\n",
    "        .group_by([\"node\", \"datetime\"])\n",
    "        .agg(\n",
    "            pl.col(\"cmg\").first().alias(\"cmg\"),\n",
    "            pl.col(\"Capacity Curtailed\").sum().alias(\"curt\"),\n",
    "        )\n",
    "        .lazy()\n",
    "        #.head()\n",
    ")\n",
    "data_process.collect()"
   ]
  },
  {
   "cell_type": "code",
   "execution_count": 192,
   "metadata": {},
   "outputs": [],
   "source": [
    "from dataclasses import dataclass\n",
    "\n",
    "import datetime as dt\n",
    "\n",
    "@dataclass\n",
    "class DataSchema:\n",
    "    dates: dt.datetime\n",
    "    curt: float\n",
    "\n",
    "\n",
    "def hour_curtailment(cmg: pl.DataFrame, nodes: list[str]) -> float:\n",
    "    return (\n",
    "        cmg\n",
    "        .filter(\n",
    "            pl.col(\"node\").is_in(nodes)\n",
    "        )\n",
    "        .group_by(\"datetime\")\n",
    "        .agg(pl.col(\"curt\").sum().alias(\"curt\"))\n",
    "        .select(\"curt\")\n",
    "        .item()\n",
    "    )\n",
    "\n",
    "def get_data(cmg:pl.DataFrame, date: dt.datetime) -> pl.DataFrame:\n",
    "    return cmg.filter(pl.col(\"datetime\")==date)\n",
    "\n",
    "def get_hours(cmg:pl.DataFrame, node:str) -> pl.DataFrame:\n",
    "    return cmg.filter(pl.col(\"node\")==node,pl.col(\"cmg\").le(0)).select(\"datetime\").sort(\"datetime\")\n",
    "\n",
    "def check_cmg(cmg: pl.DataFrame, nodo: str) -> bool:\n",
    "    if cmg.filter(pl.col(\"node\")==nodo).select(\"cmg\").is_empty():\n",
    "        return True\n",
    "    return cmg.filter(pl.col(\"node\")==nodo).select(\"cmg\").item() <= 0\n",
    "\n",
    "def obtener_nodos_con_valor_negativo(G: nx.Graph, nodo_inicial: str, cmg: pl.DataFrame) -> list[str]:\n",
    "    # Asumimos que los valores están almacenados en un atributo de nodo llamado 'valor'\n",
    "    nodos_con_valor_negativo = []\n",
    "    \n",
    "    # Verificamos que el nodo inicial esté en el grafo\n",
    "    if nodo_inicial not in G:\n",
    "        print(f\"El nodo inicial {nodo_inicial} no se encuentra en el grafo.\")\n",
    "        return nodos_con_valor_negativo\n",
    "    \n",
    "    # Realizamos un recorrido BFS para explorar los nodos conectados\n",
    "    visitados = set()  # Conjunto para llevar registro de los nodos ya visitados\n",
    "    cola = [nodo_inicial]  # Cola para BFS, comienza con el nodo inicial\n",
    "    \n",
    "    while cola:\n",
    "        nodo_actual = cola.pop(0)  # Sacamos el primer nodo de la cola\n",
    "        if nodo_actual not in visitados:\n",
    "            visitados.add(nodo_actual)  # Marcamos el nodo actual como visitado\n",
    "            # Verificamos el valor del nodo actual\n",
    "            if check_cmg(cmg, nodo_actual):\n",
    "                nodos_con_valor_negativo.append(nodo_actual)\n",
    "            \n",
    "            # Añadimos los nodos adyacentes no visitados a la cola\n",
    "            for vecino in G[nodo_actual]:\n",
    "                if vecino not in visitados:\n",
    "                    cola.append(vecino)\n",
    "    \n",
    "    return nodos_con_valor_negativo"
   ]
  },
  {
   "cell_type": "code",
   "execution_count": 196,
   "metadata": {},
   "outputs": [],
   "source": [
    "G = nx.from_pandas_edgelist(df_topo.to_pandas(), 'Nodo', 'Central')\n",
    "curt_data = []\n",
    "for date in get_hours(data_process.collect(), \"Andes220\").iter_rows():\n",
    "    data = get_data(data_process.collect(), *date)\n",
    "    nodes = obtener_nodos_con_valor_negativo(G, \"Andes220\", data)\n",
    "    curt = hour_curtailment(data, nodes)\n",
    "    curt_data.append(DataSchema(*date, curt))"
   ]
  },
  {
   "cell_type": "code",
   "execution_count": 220,
   "metadata": {},
   "outputs": [
    {
     "data": {
      "text/html": [
       "<div><style>\n",
       ".dataframe > thead > tr,\n",
       ".dataframe > tbody > tr {\n",
       "  text-align: right;\n",
       "  white-space: pre-wrap;\n",
       "}\n",
       "</style>\n",
       "<small>shape: (24, 2)</small><table border=\"1\" class=\"dataframe\"><thead><tr><th>datetime</th><th>curt</th></tr><tr><td>datetime[μs]</td><td>f64</td></tr></thead><tbody><tr><td>2024-01-29 09:00:00</td><td>592.565162</td></tr><tr><td>2024-01-29 10:00:00</td><td>817.731803</td></tr><tr><td>2024-01-29 11:00:00</td><td>1120.411339</td></tr><tr><td>2024-01-29 12:00:00</td><td>1200.00147</td></tr><tr><td>2024-01-29 13:00:00</td><td>1397.090399</td></tr><tr><td>2024-01-29 14:00:00</td><td>1541.460476</td></tr><tr><td>2024-01-29 15:00:00</td><td>1608.782336</td></tr><tr><td>2024-01-29 16:00:00</td><td>1543.614328</td></tr><tr><td>2024-01-29 17:00:00</td><td>1394.533</td></tr><tr><td>2024-01-29 18:00:00</td><td>595.759004</td></tr><tr><td>2024-01-30 09:00:00</td><td>403.719039</td></tr><tr><td>2024-01-30 10:00:00</td><td>789.53547</td></tr><tr><td>2024-01-30 11:00:00</td><td>1078.998355</td></tr><tr><td>2024-01-30 12:00:00</td><td>1126.341345</td></tr><tr><td>2024-01-30 13:00:00</td><td>1523.5715</td></tr><tr><td>2024-01-30 14:00:00</td><td>1523.5715</td></tr><tr><td>2024-01-30 15:00:00</td><td>1704.852701</td></tr><tr><td>2024-01-30 16:00:00</td><td>1596.982774</td></tr><tr><td>2024-01-30 17:00:00</td><td>1523.361</td></tr><tr><td>2024-01-30 18:00:00</td><td>844.467471</td></tr><tr><td>2024-01-31 09:00:00</td><td>133.349364</td></tr><tr><td>2024-01-31 10:00:00</td><td>894.137</td></tr><tr><td>2024-01-31 11:00:00</td><td>894.137</td></tr><tr><td>2024-01-31 12:00:00</td><td>1166.635872</td></tr></tbody></table></div>"
      ],
      "text/plain": [
       "shape: (24, 2)\n",
       "┌─────────────────────┬─────────────┐\n",
       "│ datetime            ┆ curt        │\n",
       "│ ---                 ┆ ---         │\n",
       "│ datetime[μs]        ┆ f64         │\n",
       "╞═════════════════════╪═════════════╡\n",
       "│ 2024-01-29 09:00:00 ┆ 592.565162  │\n",
       "│ 2024-01-29 10:00:00 ┆ 817.731803  │\n",
       "│ 2024-01-29 11:00:00 ┆ 1120.411339 │\n",
       "│ 2024-01-29 12:00:00 ┆ 1200.00147  │\n",
       "│ 2024-01-29 13:00:00 ┆ 1397.090399 │\n",
       "│ …                   ┆ …           │\n",
       "│ 2024-01-30 18:00:00 ┆ 844.467471  │\n",
       "│ 2024-01-31 09:00:00 ┆ 133.349364  │\n",
       "│ 2024-01-31 10:00:00 ┆ 894.137     │\n",
       "│ 2024-01-31 11:00:00 ┆ 894.137     │\n",
       "│ 2024-01-31 12:00:00 ┆ 1166.635872 │\n",
       "└─────────────────────┴─────────────┘"
      ]
     },
     "execution_count": 220,
     "metadata": {},
     "output_type": "execute_result"
    }
   ],
   "source": [
    "aux = [{'datetime': data.dates, 'curt': data.curt} for data in curt_data]\n",
    "df_curt = pl.DataFrame(aux)\n",
    "df_curt.filter(pl.col(\"datetime\").ge(dt.datetime(2024,1,29,0))).head(24)"
   ]
  },
  {
   "cell_type": "code",
   "execution_count": 215,
   "metadata": {},
   "outputs": [
    {
     "data": {
      "text/html": [
       "<div><style>\n",
       ".dataframe > thead > tr,\n",
       ".dataframe > tbody > tr {\n",
       "  text-align: right;\n",
       "  white-space: pre-wrap;\n",
       "}\n",
       "</style>\n",
       "<small>shape: (144, 2)</small><table border=\"1\" class=\"dataframe\"><thead><tr><th>datetime</th><th>curt</th></tr><tr><td>datetime[μs]</td><td>f64</td></tr></thead><tbody><tr><td>2024-01-28 00:00:00</td><td>0.0</td></tr><tr><td>2024-01-28 01:00:00</td><td>0.0</td></tr><tr><td>2024-01-28 02:00:00</td><td>0.0</td></tr><tr><td>2024-01-28 03:00:00</td><td>0.0</td></tr><tr><td>2024-01-28 04:00:00</td><td>0.0</td></tr><tr><td>2024-01-28 05:00:00</td><td>0.0</td></tr><tr><td>2024-01-28 06:00:00</td><td>0.0</td></tr><tr><td>2024-01-28 07:00:00</td><td>0.0</td></tr><tr><td>2024-01-28 08:00:00</td><td>0.0</td></tr><tr><td>2024-01-28 09:00:00</td><td>80.0</td></tr><tr><td>2024-01-28 10:00:00</td><td>80.0</td></tr><tr><td>2024-01-28 11:00:00</td><td>80.0</td></tr><tr><td>&hellip;</td><td>&hellip;</td></tr><tr><td>2024-02-02 12:00:00</td><td>80.0</td></tr><tr><td>2024-02-02 13:00:00</td><td>80.0</td></tr><tr><td>2024-02-02 14:00:00</td><td>80.0</td></tr><tr><td>2024-02-02 15:00:00</td><td>80.0</td></tr><tr><td>2024-02-02 16:00:00</td><td>80.0</td></tr><tr><td>2024-02-02 17:00:00</td><td>0.0</td></tr><tr><td>2024-02-02 18:00:00</td><td>0.0</td></tr><tr><td>2024-02-02 19:00:00</td><td>0.0</td></tr><tr><td>2024-02-02 20:00:00</td><td>0.0</td></tr><tr><td>2024-02-02 21:00:00</td><td>0.0</td></tr><tr><td>2024-02-02 22:00:00</td><td>0.0</td></tr><tr><td>2024-02-02 23:00:00</td><td>0.0</td></tr></tbody></table></div>"
      ],
      "text/plain": [
       "shape: (144, 2)\n",
       "┌─────────────────────┬──────┐\n",
       "│ datetime            ┆ curt │\n",
       "│ ---                 ┆ ---  │\n",
       "│ datetime[μs]        ┆ f64  │\n",
       "╞═════════════════════╪══════╡\n",
       "│ 2024-01-28 00:00:00 ┆ 0.0  │\n",
       "│ 2024-01-28 01:00:00 ┆ 0.0  │\n",
       "│ 2024-01-28 02:00:00 ┆ 0.0  │\n",
       "│ 2024-01-28 03:00:00 ┆ 0.0  │\n",
       "│ 2024-01-28 04:00:00 ┆ 0.0  │\n",
       "│ …                   ┆ …    │\n",
       "│ 2024-02-02 19:00:00 ┆ 0.0  │\n",
       "│ 2024-02-02 20:00:00 ┆ 0.0  │\n",
       "│ 2024-02-02 21:00:00 ┆ 0.0  │\n",
       "│ 2024-02-02 22:00:00 ┆ 0.0  │\n",
       "│ 2024-02-02 23:00:00 ┆ 0.0  │\n",
       "└─────────────────────┴──────┘"
      ]
     },
     "execution_count": 215,
     "metadata": {},
     "output_type": "execute_result"
    }
   ],
   "source": [
    "(\n",
    "    pl.DataFrame()\n",
    "    .select(\n",
    "        pl.datetime_range(\n",
    "            start=data_extractor.cmg.select(\"datetime\").min().item(),\n",
    "            end=data_extractor.cmg.select(\"datetime\").max().item(),\n",
    "            interval=\"1h\"\n",
    "        ).alias(\"datetime\"),\n",
    "    )\n",
    "    .join(df_curt, on=\"datetime\", how=\"left\")\n",
    "    .with_columns(\n",
    "        pl.when(pl.col(\"curt\").gt(80))\n",
    "        .then(80)\n",
    "        .otherwise(pl.col(\"curt\"))\n",
    "        .alias(\"curt\")\n",
    "    )\n",
    "    .fill_null(0)\n",
    ")"
   ]
  },
  {
   "cell_type": "code",
   "execution_count": null,
   "metadata": {},
   "outputs": [],
   "source": []
  }
 ],
 "metadata": {
  "kernelspec": {
   "display_name": ".venv",
   "language": "python",
   "name": "python3"
  },
  "language_info": {
   "codemirror_mode": {
    "name": "ipython",
    "version": 3
   },
   "file_extension": ".py",
   "mimetype": "text/x-python",
   "name": "python",
   "nbconvert_exporter": "python",
   "pygments_lexer": "ipython3",
   "version": "3.11.7"
  }
 },
 "nbformat": 4,
 "nbformat_minor": 2
}
